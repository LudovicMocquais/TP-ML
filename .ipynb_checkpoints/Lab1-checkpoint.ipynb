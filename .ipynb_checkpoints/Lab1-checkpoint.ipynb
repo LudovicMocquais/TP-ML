{
 "cells": [
  {
   "cell_type": "markdown",
   "metadata": {},
   "source": [
    "### Mocquais Ludovic, Sarr Mariétou --- 4IR B2"
   ]
  },
  {
   "cell_type": "markdown",
   "metadata": {},
   "source": [
    "# Lab 1 Evaluation"
   ]
  },
  {
   "cell_type": "markdown",
   "metadata": {},
   "source": [
    "In the following, we consider the  (binarized) Compas dataset that we studied in the Lab"
   ]
  },
  {
   "cell_type": "markdown",
   "metadata": {},
   "source": [
    "A decision tree configuration is a set of parameters that one can use to build decision trees. Propose 6 configurations that are likely to provide different topologies and caracteristics"
   ]
  },
  {
   "cell_type": "code",
   "execution_count": 1,
   "metadata": {},
   "outputs": [],
   "source": [
    "from sklearn import tree\n",
    "from matplotlib import pyplot as plt # for a good visualization of the trees \n",
    "import csv\n",
    "import numpy as np\n",
    "from utils import load_from_csv\n",
    "\n",
    "train_examples, train_labels, features, prediction = load_from_csv(\"./compass.csv\")\n",
    "\n",
    "conf1 = {\"splitter\" : \"best\", \"max_depth\" : 3, \"min_samples_leaf\" : 100}\n",
    "conf2 = {\"splitter\" : \"random\", \"max_depth\" : 3, \"min_samples_leaf\" : 100}\n",
    "conf3 = {\"splitter\" : \"best\", \"max_depth\" : 3, \"min_samples_leaf\" : 1000}\n",
    "conf4 = {\"splitter\" : \"best\", \"max_depth\" : 10, \"min_samples_leaf\" : 1}\n",
    "conf5 = {\"splitter\" : \"random\", \"max_depth\" : 10, \"min_samples_leaf\" : 100}\n",
    "conf6 = {\"splitter\" : \"random\", \"max_depth\" : 1, \"min_samples_leaf\" : 2000}"
   ]
  },
  {
   "cell_type": "markdown",
   "metadata": {},
   "source": [
    "Train a decision tree for each of the previous configurations on the full dataset"
   ]
  },
  {
   "cell_type": "code",
   "execution_count": 2,
   "metadata": {},
   "outputs": [],
   "source": [
    "def createTree(train,trainl,conf): #create and train a tree with the train dataset and their labels trainl. \n",
    "                                    #conf is the configuration used to make the tree\n",
    "    clf = tree.DecisionTreeClassifier(**conf)\n",
    "    clf = clf.fit(train, trainl)\n",
    "    return clf\n",
    "\n",
    "def showTree(clf):\n",
    "    fig = plt.figure(figsize=(20,21))\n",
    "    _ = tree.plot_tree(clf, \n",
    "                       feature_names= features,\n",
    "                       class_names= (\"recidiviste (0)\", \"non recidiviste (1)\" ), \n",
    "                       filled=True,\n",
    "                       fontsize=10)\n",
    "\n",
    "clf1 = createTree(train_examples,train_labels,conf1)\n",
    "clf2 = createTree(train_examples,train_labels,conf2)\n",
    "clf3 = createTree(train_examples,train_labels,conf3)\n",
    "clf4 = createTree(train_examples,train_labels,conf4)\n",
    "clf5 = createTree(train_examples,train_labels,conf5)\n",
    "clf6 = createTree(train_examples,train_labels,conf6)\n",
    "\n",
    "#We used a previous execution of showTree(clfx) to download all the trees."
   ]
  },
  {
   "cell_type": "markdown",
   "metadata": {},
   "source": [
    "Click [here](https://docs.google.com/document/d/1FUeecwyLCigvagHSumziEMSDYzbFGwt4Ce6zdnCK8Oo/edit?usp=sharing) to see the differents trees ! "
   ]
  },
  {
   "cell_type": "markdown",
   "metadata": {},
   "source": [
    "Propose an evaluation in terms of training and testing accuracies using $5$-cross validation on two decision trees that have different typologies"
   ]
  },
  {
   "cell_type": "code",
   "execution_count": 3,
   "metadata": {},
   "outputs": [
    {
     "name": "stdout",
     "output_type": "stream",
     "text": [
      "configuration : {'splitter': 'best', 'max_depth': 3, 'min_samples_leaf': 100}\n",
      "True postive rate : 46.03%.\n",
      "False postive rate : 53.97%.\n",
      "True Negative rate : 79.1%.\n",
      "False Negative rate : 20.9%\n",
      "\n",
      "configuration : {'splitter': 'random', 'max_depth': 10, 'min_samples_leaf': 100}\n",
      "True postive rate : 60.53%.\n",
      "False postive rate : 39.47%.\n",
      "True Negative rate : 71.18%.\n",
      "False Negative rate : 28.82%\n"
     ]
    }
   ],
   "source": [
    "# Split dataset into training and test set\n",
    "from sklearn.model_selection import train_test_split\n",
    "\n",
    "def split_folds(examples,labels,Nfolds=5): \n",
    "    #Based on the dataset examples and their labels labels, this function returns Nfolds folds of the data and their labels\n",
    "    length = int(len(examples)/Nfolds) #length of each fold\n",
    "    folds = []\n",
    "    foldsl = []\n",
    "    for i in range(Nfolds-1):\n",
    "        folds += [examples[i*length:(i+1)*length]]\n",
    "        foldsl += [labels[i*length:(i+1)*length]]\n",
    "    folds += [examples[(Nfolds-1)*length:len(examples)]]\n",
    "    foldsl += [labels[(Nfolds-1)*length:len(labels)]]\n",
    "    return folds,foldsl\n",
    "\n",
    "def evaluateTree(clf,test,testl):\n",
    "    #This funtion returns the confusion matrix of a trained tree.\n",
    "    #The matrix is based on the dataset test and their labels testl\n",
    "    res = clf.predict(test)\n",
    "    confmatrix = np.zeros((2,2))\n",
    "    for prediction,real in zip(res,testl):\n",
    "        if real == 1:\n",
    "            if prediction == 1:\n",
    "                confmatrix[0,0]+=1\n",
    "            if prediction == 0:\n",
    "                confmatrix[0,1]+=1\n",
    "        if real == 0:\n",
    "            if prediction == 1:\n",
    "                confmatrix[1,0]+=1\n",
    "            if prediction == 0:\n",
    "                confmatrix[1,1]+=1\n",
    "    return confmatrix\n",
    "\n",
    "def fivecross(conf,examples=train_examples,label=train_labels):\n",
    "    #Given a configuration conf, this function make a 5-cross validation on the dataset examples split in 5 folds\n",
    "    #It starts by training a tree on the full dataset except one fold that will be used to evaluate \n",
    "    #the tree (by making a confusion matrix)\n",
    "    #It returns a final confusion matrix corresponding to the mean of the 5 confusion matrix of each tree.\n",
    "    folds,foldsl = split_folds(examples,label)\n",
    "    confmatrix = np.zeros((2,2))\n",
    "    for i in range(5):\n",
    "        if i != 4:\n",
    "            train = [j for k in (folds[:i] + folds[i+1:]) for j in k]\n",
    "            trainl = [j for k in (foldsl[:i] + foldsl[i+1:]) for j in k]\n",
    "        else:\n",
    "            train = [j for k in folds[:i] for j in k]\n",
    "            trainl = [j for k in foldsl[:i] for j in k]\n",
    "        test = folds[i]\n",
    "        testl = foldsl[i]\n",
    "        clf = createTree(train,trainl,conf)\n",
    "        confmatrix = confmatrix + evaluateTree(clf,test,testl)\n",
    "    confmatrix = confmatrix/5\n",
    "    return confmatrix\n",
    "\n",
    "def evaluateConfMatrix(confmatrix):\n",
    "    #This function computes the True Positive, False Postitive, True Negative and False Negative Rates\n",
    "    #given a confusion matrix\n",
    "    TP = 100*confmatrix[0,0]/(confmatrix[0,0]+confmatrix[0,1])\n",
    "    TN = 100*confmatrix[1,1]/(confmatrix[1,0]+confmatrix[1,1])\n",
    "    FP = 100- TP\n",
    "    FN = 100 - TN\n",
    "    return (TP,FP,TN,FN)\n",
    "\n",
    "def showRates(rates): \n",
    "    #This function is used to print the rates given by the function evaluateConfMatrix\n",
    "    print(\"True postive rate : \"+str(round(rates[0],2))+\"%.\\nFalse postive rate : \"+str(round(rates[1],2))+\"%.\")\n",
    "    print(\"True Negative rate : \"+str(round(rates[2],2))+\"%.\\nFalse Negative rate : \"+str(round(rates[3],2))+\"%\")\n",
    "    \n",
    "print(\"configuration : \" + str(conf1))\n",
    "showRates(evaluateConfMatrix(fivecross(conf1)))\n",
    "print(\"\\nconfiguration : \" + str(conf5))\n",
    "showRates(evaluateConfMatrix(fivecross(conf5)))"
   ]
  },
  {
   "cell_type": "markdown",
   "metadata": {},
   "source": [
    "Propose an experimental study that shows the transition phase from underfitting to overfitting "
   ]
  },
  {
   "cell_type": "code",
   "execution_count": 4,
   "metadata": {},
   "outputs": [
    {
     "data": {
      "image/png": "[encoded data removed]",
      "text/plain": [
       "<Figure size 432x288 with 1 Axes>"
      ]
     },
     "metadata": {
      "needs_background": "light"
     },
     "output_type": "display_data"
    }
   ],
   "source": [
    "def accuracyConfusionMatrix(matrix):\n",
    "    #Returns the rate of well predicted individuals based on a confusion matrix\n",
    "    return (matrix[0,0] + matrix[1,1])/(matrix[0,0]+matrix[0,1]+matrix[1,0]+matrix[1,1])\n",
    "\n",
    "def evaluateConfigurationAccuracy(conf,rstate=1,testsplit=0.2,\n",
    "                                  example=train_examples,\n",
    "                                  label=train_labels):\n",
    "    #Given a configuration conf, this function train a tree on a random part of the dataset examples with the rest \n",
    "    #(testsplit) reserved for testing. Its returns the accuracy of the predictions on the training set and \n",
    "    #the testing set.\n",
    "    train,test,trainl,testl = train_test_split(example, label,random_state=rstate, test_size = testsplit) \n",
    "    clf = createTree(train,trainl,conf) #training a tree\n",
    "    matrixTest = evaluateTree(clf,test,testl) # to get the accuracy on the testing set\n",
    "    matrixTrain = evaluateTree(clf,train,trainl) # to get the accuracy on the training set\n",
    "    return accuracyConfusionMatrix(matrixTest),accuracyConfusionMatrix(matrixTrain)\n",
    "\n",
    "# Experimental Study\n",
    "#To show the transition phase between underfitting and overfitting, we took a simple configuration with a constant \n",
    "#splitter and min_samples_leaf and we increase the maximum depth of the tree from 1 to 40. \n",
    "#A tree with a small depth underfits while a more complex tree will tend to overfit\n",
    "\n",
    "X = [i for i in range(1,41)] #our maximum depths\n",
    "#Accuracies rates of the testing and the training sets\n",
    "Y = [evaluateConfigurationAccuracy({\"splitter\" : \"best\", \"max_depth\" : i, \"min_samples_leaf\" : 1}) for i in range(1,41)]  \n",
    "Y1 = [E[0] for E in Y] # Accuracies of the testing set\n",
    "Y2 = [E[1] for E in Y] # Accuracies of the training set\n",
    "plt.plot(X, Y1, label='Test')\n",
    "plt.plot(X, Y2, label='Train')\n",
    "plt.legend()\n",
    "plt.show()\n",
    "plt.close()"
   ]
  },
  {
   "cell_type": "markdown",
   "metadata": {},
   "source": [
    "We can see some underfitting with tree depths lower that 5, between 5 and 7 we have the transition phase (good part) and we have a little bit of overfitting with tree depth higher that 7. \n",
    "With the given dataset, we cannot have full overfitting (100% accuracy on the training set) and with maximum depths higher that 15, the accuracy of the training set is constant. As we randomly choose the testing set at each iteration, we have little variations of the the accuracy of the testing set."
   ]
  },
  {
   "cell_type": "markdown",
   "metadata": {},
   "source": [
    "Construct the confusion matrix on a particular good configuration (after explaining your choice)"
   ]
  },
  {
   "cell_type": "code",
   "execution_count": 5,
   "metadata": {},
   "outputs": [
    {
     "name": "stdout",
     "output_type": "stream",
     "text": [
      "0.6766546557936658\n",
      "This the confusion matrix of a good configuration : \n",
      "[[1416. 1067.]\n",
      " [ 638. 2152.]]\n"
     ]
    }
   ],
   "source": [
    "#A good configuration have a good accuracy on both the training and the testing set.\n",
    "#With our experiment, we decided to choose a maximum depth of 5, because it has a good \n",
    "#accuracy on the training set and the best recorded accuracy for the testing set.\n",
    "good_conf = {\"splitter\" : \"random\", \"max_depth\" : 5, \"min_samples_leaf\" : 1}\n",
    "train,test,trainl,testl = train_test_split(train_examples, train_labels,random_state=1, test_size = 0.2)\n",
    "goodtree= createTree(train,trainl,good_conf)  \n",
    "\n",
    "#confusion_good_conf is the confusion matrix made with the entire dataset\n",
    "confusion_good_conf = evaluateTree(goodtree,train_examples, train_labels) \n",
    "print(accuracyConfusionMatrix(confusion_good_conf))\n",
    "print(\"This the confusion matrix of a good configuration : \\n\" + str(confusion_good_conf))"
   ]
  },
  {
   "cell_type": "markdown",
   "metadata": {},
   "source": [
    "Provide an evaluation of the fairness of the model based on the False Positive Rate"
   ]
  },
  {
   "cell_type": "code",
   "execution_count": 6,
   "metadata": {},
   "outputs": [
    {
     "name": "stdout",
     "output_type": "stream",
     "text": [
      "True postive rate : 57.03%.\n",
      "False postive rate : 42.97%.\n",
      "True Negative rate : 77.13%.\n",
      "False Negative rate : 22.87%\n"
     ]
    }
   ],
   "source": [
    "good_rates = evaluateConfMatrix(confusion_good_conf)\n",
    "showRates(good_rates)"
   ]
  },
  {
   "cell_type": "markdown",
   "metadata": {},
   "source": [
    "Based on the rates given by this confusion matrix, we can see that a bit less than half of the positive individuals were predicted negative. This shows that this model is negatively biased towards the real positive individuals, missing almost half of them."
   ]
  }
 ],
 "metadata": {
  "kernelspec": {
   "display_name": "Python 3",
   "language": "python",
   "name": "python3"
  },
  "language_info": {
   "codemirror_mode": {
    "name": "ipython",
    "version": 3
   },
   "file_extension": ".py",
   "mimetype": "text/x-python",
   "name": "python",
   "nbconvert_exporter": "python",
   "pygments_lexer": "ipython3",
   "version": "3.8.10"
  }
 },
 "nbformat": 4,
 "nbformat_minor": 4
}
