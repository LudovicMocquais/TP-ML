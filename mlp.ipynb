{
 "cells": [
  {
   "cell_type": "markdown",
   "metadata": {},
   "source": [
    "# Lab 3 : Multi-Layers Perceptron "
   ]
  },
  {
   "cell_type": "markdown",
   "metadata": {},
   "source": [
    "# Introduction\n",
    "\n",
    "The objective of this lab is to dive into particular kind of neural network: the *Multi-Layer Perceptron* (MLP).\n",
    "\n",
    "To start, let us take the dataset from the previous lab (hydrodynamics of sailing boats) and use scikit-learn to train a MLP instead of our hand-made single perceptron.\n",
    "The code below is already complete and is meant to give you an idea of how to construct an MLP with scikit-learn. You can execute it, taking the time to understand the idea behind each cell."
   ]
  },
  {
   "cell_type": "code",
   "execution_count": 1,
   "metadata": {},
   "outputs": [],
   "source": [
    "# Importing the dataset\n",
    "import numpy as np\n",
    "dataset = np.genfromtxt(\"yacht_hydrodynamics.data\", delimiter='')\n",
    "X = dataset[:, :-1]\n",
    "Y = dataset[:, -1]"
   ]
  },
  {
   "cell_type": "code",
   "execution_count": 2,
   "metadata": {},
   "outputs": [],
   "source": [
    "# Preprocessing: scale input data \n",
    "from sklearn.preprocessing import StandardScaler\n",
    "sc = StandardScaler()\n",
    "X = sc.fit_transform(X)"
   ]
  },
  {
   "cell_type": "code",
   "execution_count": 3,
   "metadata": {},
   "outputs": [],
   "source": [
    "# Split dataset into training and test set\n",
    "from sklearn.model_selection import train_test_split\n",
    "x_train, x_test, y_train, y_test = train_test_split(X, Y,random_state=1, test_size = 0.20)"
   ]
  },
  {
   "cell_type": "code",
   "execution_count": 4,
   "metadata": {},
   "outputs": [
    {
     "data": {
      "text/plain": [
       "MLPRegressor(max_iter=3000, random_state=1)"
      ]
     },
     "execution_count": 4,
     "metadata": {},
     "output_type": "execute_result"
    }
   ],
   "source": [
    "# Define a multi-layer perceptron (MLP) network for regression\n",
    "from sklearn.neural_network import MLPRegressor\n",
    "mlp = MLPRegressor(max_iter=3000, random_state=1) # define the model, with default params\n",
    "mlp.fit(x_train, y_train) # train the MLP"
   ]
  },
  {
   "cell_type": "code",
   "execution_count": 5,
   "metadata": {},
   "outputs": [
    {
     "name": "stdout",
     "output_type": "stream",
     "text": [
      "Train score:  0.9940765369322633\n",
      "Test score:   0.9899773031580283\n"
     ]
    }
   ],
   "source": [
    "# Evaluate the model\n",
    "from matplotlib import pyplot as plt\n",
    "\n",
    "print('Train score: ', mlp.score(x_train, y_train))\n",
    "print('Test score:  ', mlp.score(x_test, y_test))\n",
    "#plt.plot(mlp.loss_curve_)\n",
    "#plt.xlabel(\"Iterations\")\n",
    "#plt.ylabel(\"Loss\")\n"
   ]
  },
  {
   "cell_type": "code",
   "execution_count": 7,
   "metadata": {},
   "outputs": [],
   "source": [
    "# Plot the results\n",
    "num_samples_to_plot = 20\n",
    "#plt.plot(y_test[0:num_samples_to_plot], 'ro', label='y')\n",
    "yw = mlp.predict(x_test)\n",
    "#plt.plot(yw[0:num_samples_to_plot], 'bx', label='$\\hat{y}$')\n",
    "#plt.legend()\n",
    "#plt.xlabel(\"Examples\")\n",
    "#plt.ylabel(\"f(examples)\")"
   ]
  },
  {
   "cell_type": "markdown",
   "metadata": {},
   "source": [
    "### Analyzing the network\n",
    "\n",
    "Many details of the network are currently hidden as default parameters.\n",
    "\n",
    "Using the [documentation of the MLPRegressor](https://scikit-learn.org/stable/modules/generated/sklearn.neural_network.MLPRegressor.html), answer the following questions.\n",
    "\n",
    "- What is the structure of the network?\n",
    " The network is a multi-layer perceptron with hidden layers which we can choose se number and the activation function.\n",
    "- What it is the algorithm used for training? Is there algorithm available that we mentioned during the courses?\n",
    "The training algorithm is the stochastic gradient descent. Yes it was mentionned during the courses.\n",
    "- How does the training algorithm decides to stop the training?\n",
    "We have tol that is the minimum desired improvement of the loss or score for consecutive iterations. The training stops when when there is no change."
   ]
  },
  {
   "cell_type": "markdown",
   "metadata": {},
   "source": [
    "# Onto a more challenging dataset: house prices\n",
    "\n",
    "For the rest of this lab, we will use the (more challenging) [California Housing Prices dataset](https://www.kaggle.com/datasets/camnugent/california-housing-prices)."
   ]
  },
  {
   "cell_type": "code",
   "execution_count": 7,
   "metadata": {},
   "outputs": [],
   "source": [
    "# clean all previously defined variables for the sailing boats\n",
    "%reset -f"
   ]
  },
  {
   "cell_type": "code",
   "execution_count": 8,
   "metadata": {},
   "outputs": [
    {
     "data": {
      "text/html": [
       "<div>\n",
       "<style scoped>\n",
       "    .dataframe tbody tr th:only-of-type {\n",
       "        vertical-align: middle;\n",
       "    }\n",
       "\n",
       "    .dataframe tbody tr th {\n",
       "        vertical-align: top;\n",
       "    }\n",
       "\n",
       "    .dataframe thead th {\n",
       "        text-align: right;\n",
       "    }\n",
       "</style>\n",
       "<table border=\"1\" class=\"dataframe\">\n",
       "  <thead>\n",
       "    <tr style=\"text-align: right;\">\n",
       "      <th></th>\n",
       "      <th>MedInc</th>\n",
       "      <th>HouseAge</th>\n",
       "      <th>AveRooms</th>\n",
       "      <th>AveBedrms</th>\n",
       "      <th>Population</th>\n",
       "      <th>AveOccup</th>\n",
       "      <th>Latitude</th>\n",
       "      <th>Longitude</th>\n",
       "    </tr>\n",
       "  </thead>\n",
       "  <tbody>\n",
       "    <tr>\n",
       "      <th>0</th>\n",
       "      <td>8.3252</td>\n",
       "      <td>41.0</td>\n",
       "      <td>6.984127</td>\n",
       "      <td>1.023810</td>\n",
       "      <td>322.0</td>\n",
       "      <td>2.555556</td>\n",
       "      <td>37.88</td>\n",
       "      <td>-122.23</td>\n",
       "    </tr>\n",
       "    <tr>\n",
       "      <th>1</th>\n",
       "      <td>8.3014</td>\n",
       "      <td>21.0</td>\n",
       "      <td>6.238137</td>\n",
       "      <td>0.971880</td>\n",
       "      <td>2401.0</td>\n",
       "      <td>2.109842</td>\n",
       "      <td>37.86</td>\n",
       "      <td>-122.22</td>\n",
       "    </tr>\n",
       "    <tr>\n",
       "      <th>2</th>\n",
       "      <td>7.2574</td>\n",
       "      <td>52.0</td>\n",
       "      <td>8.288136</td>\n",
       "      <td>1.073446</td>\n",
       "      <td>496.0</td>\n",
       "      <td>2.802260</td>\n",
       "      <td>37.85</td>\n",
       "      <td>-122.24</td>\n",
       "    </tr>\n",
       "    <tr>\n",
       "      <th>3</th>\n",
       "      <td>5.6431</td>\n",
       "      <td>52.0</td>\n",
       "      <td>5.817352</td>\n",
       "      <td>1.073059</td>\n",
       "      <td>558.0</td>\n",
       "      <td>2.547945</td>\n",
       "      <td>37.85</td>\n",
       "      <td>-122.25</td>\n",
       "    </tr>\n",
       "    <tr>\n",
       "      <th>4</th>\n",
       "      <td>3.8462</td>\n",
       "      <td>52.0</td>\n",
       "      <td>6.281853</td>\n",
       "      <td>1.081081</td>\n",
       "      <td>565.0</td>\n",
       "      <td>2.181467</td>\n",
       "      <td>37.85</td>\n",
       "      <td>-122.25</td>\n",
       "    </tr>\n",
       "    <tr>\n",
       "      <th>5</th>\n",
       "      <td>4.0368</td>\n",
       "      <td>52.0</td>\n",
       "      <td>4.761658</td>\n",
       "      <td>1.103627</td>\n",
       "      <td>413.0</td>\n",
       "      <td>2.139896</td>\n",
       "      <td>37.85</td>\n",
       "      <td>-122.25</td>\n",
       "    </tr>\n",
       "    <tr>\n",
       "      <th>6</th>\n",
       "      <td>3.6591</td>\n",
       "      <td>52.0</td>\n",
       "      <td>4.931907</td>\n",
       "      <td>0.951362</td>\n",
       "      <td>1094.0</td>\n",
       "      <td>2.128405</td>\n",
       "      <td>37.84</td>\n",
       "      <td>-122.25</td>\n",
       "    </tr>\n",
       "    <tr>\n",
       "      <th>7</th>\n",
       "      <td>3.1200</td>\n",
       "      <td>52.0</td>\n",
       "      <td>4.797527</td>\n",
       "      <td>1.061824</td>\n",
       "      <td>1157.0</td>\n",
       "      <td>1.788253</td>\n",
       "      <td>37.84</td>\n",
       "      <td>-122.25</td>\n",
       "    </tr>\n",
       "    <tr>\n",
       "      <th>8</th>\n",
       "      <td>2.0804</td>\n",
       "      <td>42.0</td>\n",
       "      <td>4.294118</td>\n",
       "      <td>1.117647</td>\n",
       "      <td>1206.0</td>\n",
       "      <td>2.026891</td>\n",
       "      <td>37.84</td>\n",
       "      <td>-122.26</td>\n",
       "    </tr>\n",
       "    <tr>\n",
       "      <th>9</th>\n",
       "      <td>3.6912</td>\n",
       "      <td>52.0</td>\n",
       "      <td>4.970588</td>\n",
       "      <td>0.990196</td>\n",
       "      <td>1551.0</td>\n",
       "      <td>2.172269</td>\n",
       "      <td>37.84</td>\n",
       "      <td>-122.25</td>\n",
       "    </tr>\n",
       "  </tbody>\n",
       "</table>\n",
       "</div>"
      ],
      "text/plain": [
       "   MedInc  HouseAge  AveRooms  AveBedrms  Population  AveOccup  Latitude  \\\n",
       "0  8.3252      41.0  6.984127   1.023810       322.0  2.555556     37.88   \n",
       "1  8.3014      21.0  6.238137   0.971880      2401.0  2.109842     37.86   \n",
       "2  7.2574      52.0  8.288136   1.073446       496.0  2.802260     37.85   \n",
       "3  5.6431      52.0  5.817352   1.073059       558.0  2.547945     37.85   \n",
       "4  3.8462      52.0  6.281853   1.081081       565.0  2.181467     37.85   \n",
       "5  4.0368      52.0  4.761658   1.103627       413.0  2.139896     37.85   \n",
       "6  3.6591      52.0  4.931907   0.951362      1094.0  2.128405     37.84   \n",
       "7  3.1200      52.0  4.797527   1.061824      1157.0  1.788253     37.84   \n",
       "8  2.0804      42.0  4.294118   1.117647      1206.0  2.026891     37.84   \n",
       "9  3.6912      52.0  4.970588   0.990196      1551.0  2.172269     37.84   \n",
       "\n",
       "   Longitude  \n",
       "0    -122.23  \n",
       "1    -122.22  \n",
       "2    -122.24  \n",
       "3    -122.25  \n",
       "4    -122.25  \n",
       "5    -122.25  \n",
       "6    -122.25  \n",
       "7    -122.25  \n",
       "8    -122.26  \n",
       "9    -122.25  "
      ]
     },
     "execution_count": 8,
     "metadata": {},
     "output_type": "execute_result"
    }
   ],
   "source": [
    "\"\"\"Import the required modules\"\"\"\n",
    "from sklearn.datasets import fetch_california_housing\n",
    "import pandas as pd\n",
    "\n",
    "num_samples = 2000 # only use the first N samples to limit training time\n",
    "\n",
    "cal_housing = fetch_california_housing()\n",
    "X = pd.DataFrame(cal_housing.data,columns=cal_housing.feature_names)[:num_samples]\n",
    "Y = cal_housing.target[:num_samples]\n",
    "X.head(10) # print the first 10 values\n"
   ]
  },
  {
   "cell_type": "markdown",
   "metadata": {},
   "source": [
    "Note that each row of the dataset represents a **group of houses** (one district). The `target` variable denotes the average house value in units of 100.000 USD. Median Income is per 10.000 USD."
   ]
  },
  {
   "cell_type": "markdown",
   "metadata": {},
   "source": [
    "### Extracting a subpart of the dataset for testing\n",
    "\n",
    "- Split the dataset between a training set (75%) and a test set (25%)\n",
    "\n",
    "Please use the conventional names `X_train`, `X_test`, `y_train` and `y_test`."
   ]
  },
  {
   "cell_type": "code",
   "execution_count": 9,
   "metadata": {},
   "outputs": [],
   "source": [
    "# TODO\n",
    "from sklearn.model_selection import train_test_split\n",
    "\n",
    "x_train, x_test, y_train, y_test = train_test_split(X, Y,random_state=1, test_size = 0.25)"
   ]
  },
  {
   "cell_type": "markdown",
   "metadata": {},
   "source": [
    "### Scaling the input data\n",
    "\n",
    "\n",
    "A step of **scaling** of the data is often useful to ensure that all input data centered on 0 and with a fixed variance.\n",
    "\n",
    "Standardization of a dataset is a common requirement for many machine learning estimators: they might behave badly if the individual features do not more or less look like standard normally distributed data (e.g. Gaussian with 0 mean and unit variance). The function `StandardScaler` from `sklearn.preprocessing` computes the standard score of a sample as:\n",
    "\n",
    "```\n",
    "z = (x - u) / s\n",
    "```\n",
    "\n",
    "where `u` is the mean of the training samples, and `s` is the standard deviation of the training samples.\n",
    "\n",
    "Centering and scaling happen independently on each feature by computing the relevant statistics on the samples in the training set. Mean and standard deviation are then stored to be used on later data using transform.\n",
    "\n",
    " - Apply the standard scaler to both the training dataset (`X_train`) and the test dataset (`X_test`).\n",
    " - Make sure that **exactly the same transformation** is applied to both datasets.\n",
    "\n",
    "[Documentation of standard scaler in scikit learn](https://scikit-learn.org/stable/modules/generated/sklearn.preprocessing.StandardScaler.html)\n",
    "\n"
   ]
  },
  {
   "cell_type": "code",
   "execution_count": 10,
   "metadata": {},
   "outputs": [],
   "source": [
    "# TODO\n",
    "from sklearn.preprocessing import StandardScaler\n",
    "\n",
    "sc = StandardScaler()\n",
    "X_train = sc.fit_transform(x_train)\n",
    "X_test = sc.fit_transform(x_test)"
   ]
  },
  {
   "cell_type": "markdown",
   "metadata": {},
   "source": [
    "## Overfitting\n",
    "\n",
    "In this part, we are only interested in maximizing the **train score**, i.e., having the network memorize the training examples as well as possible.\n",
    "\n",
    "- Propose a parameterization of the network (shape and learning parameters) that will maximize the train score (without considering the test score).\n",
    "   \n",
    "   While doing this, you should (1) remain within two minutes of training time, and (2) obtain a score that is greater than 0.90.\n",
    "   \n",
    "\n",
    "- Is the **test** score substantially smaller than the **train** score (indicator of overfitting) ?\n",
    "    \n",
    "    Yes because with a good train score we tend to overfit\n",
    "    \n",
    "    \n",
    "- Explain how the parameters you chose allow the learned model to overfit.\n",
    "   \n",
    "   To increase the train score, we can start by adding mode hidden layers to predicate better the training value of the houses and delete the validation fraction so that all of the set is used for training. We can also decrease the tolerance, increase the number of iterations of the algorithm to get a more precise results.\n",
    "\n",
    "    \n"
   ]
  },
  {
   "cell_type": "code",
   "execution_count": 11,
   "metadata": {},
   "outputs": [
    {
     "name": "stdout",
     "output_type": "stream",
     "text": [
      "Train score:  0.9143311098389366\n",
      "Test score:   0.3194622548310331\n"
     ]
    },
    {
     "data": {
      "text/plain": [
       "Text(0, 0.5, 'Loss')"
      ]
     },
     "execution_count": 11,
     "metadata": {},
     "output_type": "execute_result"
    },
    {
     "data": {
      "image/png": "[encoded data removed]",
      "text/plain": [
       "<Figure size 432x288 with 1 Axes>"
      ]
     },
     "metadata": {
      "needs_background": "light"
     },
     "output_type": "display_data"
    }
   ],
   "source": [
    "# TODO\n",
    "from sklearn.neural_network import MLPRegressor\n",
    "from matplotlib import pyplot as plt\n",
    "\n",
    "\n",
    "mlp = MLPRegressor(hidden_layer_sizes=(100,100,100), tol = 1e-8,\n",
    "                   learning_rate='adaptive',validation_fraction=0, \n",
    "                    max_iter = 2500)\n",
    "\n",
    "\n",
    "mlp.fit(X_train, y_train) # train the MLP\n",
    "\n",
    "print('Train score: ', mlp.score(X_train, y_train))\n",
    "print('Test score:  ', mlp.score(X_test, y_test))\n",
    "plt.plot(mlp.loss_curve_)\n",
    "plt.xlabel(\"Iterations\")\n",
    "plt.ylabel(\"Loss\")"
   ]
  },
  {
   "cell_type": "markdown",
   "metadata": {},
   "source": [
    "## Hyperparameter tuning\n",
    "\n",
    "In this section, we are now interested in maximizing the ability of the network to predict the value of unseen examples, i.e., maximizing the **test** score.\n",
    "You should experiment with the possible parameters of the network in order to obtain a good test score, ideally with a small learning time.\n",
    "\n",
    "Parameters to vary:\n",
    "\n",
    "- number and size of the hidden layers\n",
    "- activation function\n",
    "- stopping conditions\n",
    "- maximum number of iterations\n",
    "- initial learning rate value\n",
    "\n",
    "Results to present for the tested configurations:\n",
    "\n",
    "- Train/test score\n",
    "- training time\n",
    "\n",
    "\n",
    "Present in a table the various parameters tested and the associated results. You can find in the last cell of the notebook a code snippet that will allow you to plot tables from python structure.\n",
    "Be methodical in the way your run your experiments and collect data. For each run, you should record the parameters and results into an external data structure.\n",
    "\n",
    "(Note that, while we encourage you to explore the solution space manually, there are existing methods in scikit-learn and other learning framework to automate this step as well, e.g., [GridSearchCV](https://scikit-learn.org/stable/modules/generated/sklearn.model_selection.GridSearchCV.html))"
   ]
  },
  {
   "cell_type": "code",
   "execution_count": 12,
   "metadata": {},
   "outputs": [
    {
     "name": "stderr",
     "output_type": "stream",
     "text": [
      "/usr/local/insa/anaconda/lib/python3.8/site-packages/sklearn/neural_network/_multilayer_perceptron.py:614: ConvergenceWarning: Stochastic Optimizer: Maximum iterations (200) reached and the optimization hasn't converged yet.\n",
      "  warnings.warn(\n"
     ]
    },
    {
     "data": {
      "text/plain": [
       "MLPRegressor()"
      ]
     },
     "execution_count": 12,
     "metadata": {},
     "output_type": "execute_result"
    }
   ],
   "source": [
    "# TODO\n",
    "from time import time\n",
    "data = []\n",
    "\n",
    "def test_conf(conf) :\n",
    "    \n",
    "    t = time()\n",
    "    mlp = MLPRegressor(**conf)\n",
    "    mlp.fit(X_train, y_train) # train the MLP\n",
    "    conf[\"Time\"] = time()-t\n",
    "    \n",
    "    conf[\"Train score\"]=mlp.score(X_train, y_train)\n",
    "    conf[\"Test score\"]= mlp.score(X_test, y_test)\n",
    "    \n",
    "    data.append(conf)\n",
    "    return mlp\n",
    "    \n",
    "    \n",
    "conf_d = {\"hidden_layer_sizes\" : (100,), \"activation\" : 'relu', \"tol\" :0.0001, \"early_stopping\" : False, \"max_iter\":200, \"learning_rate_init\":0.001}\n",
    "test_conf(conf_d)\n"
   ]
  },
  {
   "cell_type": "code",
   "execution_count": 13,
   "metadata": {
    "scrolled": true
   },
   "outputs": [
    {
     "data": {
      "text/plain": [
       "MLPRegressor(hidden_layer_sizes=(100, 100, 100, 100))"
      ]
     },
     "execution_count": 13,
     "metadata": {},
     "output_type": "execute_result"
    }
   ],
   "source": [
    "conf1 = {\"hidden_layer_sizes\" : (100,100,100, 100), \"activation\" : 'relu', \"tol\" :0.0001, \"early_stopping\" : False, \"max_iter\":200, \"learning_rate_init\":0.001}\n",
    "test_conf(conf1)"
   ]
  },
  {
   "cell_type": "code",
   "execution_count": 14,
   "metadata": {},
   "outputs": [
    {
     "name": "stderr",
     "output_type": "stream",
     "text": [
      "/usr/local/insa/anaconda/lib/python3.8/site-packages/sklearn/neural_network/_multilayer_perceptron.py:614: ConvergenceWarning: Stochastic Optimizer: Maximum iterations (200) reached and the optimization hasn't converged yet.\n",
      "  warnings.warn(\n"
     ]
    },
    {
     "data": {
      "text/plain": [
       "MLPRegressor(hidden_layer_sizes=(10,))"
      ]
     },
     "execution_count": 14,
     "metadata": {},
     "output_type": "execute_result"
    }
   ],
   "source": [
    "conf2 = {\"hidden_layer_sizes\" : (10,), \"activation\" : 'relu', \"tol\" :0.0001, \"early_stopping\" : False, \"max_iter\":200, \"learning_rate_init\":0.001}\n",
    "test_conf(conf2)"
   ]
  },
  {
   "cell_type": "code",
   "execution_count": 15,
   "metadata": {},
   "outputs": [
    {
     "data": {
      "text/plain": [
       "MLPRegressor(activation='identity')"
      ]
     },
     "execution_count": 15,
     "metadata": {},
     "output_type": "execute_result"
    }
   ],
   "source": [
    "conf3 = {\"hidden_layer_sizes\" : (100,), \"activation\" : 'identity', \"tol\" :0.0001, \"early_stopping\" : False, \"max_iter\":200, \"learning_rate_init\":0.001}\n",
    "test_conf(conf3)"
   ]
  },
  {
   "cell_type": "code",
   "execution_count": 16,
   "metadata": {},
   "outputs": [
    {
     "name": "stderr",
     "output_type": "stream",
     "text": [
      "/usr/local/insa/anaconda/lib/python3.8/site-packages/sklearn/neural_network/_multilayer_perceptron.py:614: ConvergenceWarning: Stochastic Optimizer: Maximum iterations (200) reached and the optimization hasn't converged yet.\n",
      "  warnings.warn(\n"
     ]
    },
    {
     "data": {
      "text/plain": [
       "MLPRegressor(activation='logistic')"
      ]
     },
     "execution_count": 16,
     "metadata": {},
     "output_type": "execute_result"
    }
   ],
   "source": [
    "\n",
    "conf4 = {\"hidden_layer_sizes\" : (100,), \"activation\" : 'logistic', \"tol\" :0.0001, \"early_stopping\" : False, \"max_iter\":200, \"learning_rate_init\":0.001}\n",
    "test_conf(conf4)"
   ]
  },
  {
   "cell_type": "code",
   "execution_count": 17,
   "metadata": {},
   "outputs": [
    {
     "name": "stderr",
     "output_type": "stream",
     "text": [
      "/usr/local/insa/anaconda/lib/python3.8/site-packages/sklearn/neural_network/_multilayer_perceptron.py:614: ConvergenceWarning: Stochastic Optimizer: Maximum iterations (200) reached and the optimization hasn't converged yet.\n",
      "  warnings.warn(\n"
     ]
    },
    {
     "data": {
      "text/plain": [
       "MLPRegressor(activation='tanh')"
      ]
     },
     "execution_count": 17,
     "metadata": {},
     "output_type": "execute_result"
    }
   ],
   "source": [
    "\n",
    "conf5 = {\"hidden_layer_sizes\" : (100,), \"activation\" : 'tanh', \"tol\" :0.0001, \"early_stopping\" : False, \"max_iter\":200, \"learning_rate_init\":0.001}\n",
    "test_conf(conf5)"
   ]
  },
  {
   "cell_type": "code",
   "execution_count": 18,
   "metadata": {},
   "outputs": [
    {
     "data": {
      "text/plain": [
       "MLPRegressor(tol=0.01)"
      ]
     },
     "execution_count": 18,
     "metadata": {},
     "output_type": "execute_result"
    }
   ],
   "source": [
    "conf6 = {\"hidden_layer_sizes\" : (100,), \"activation\" : 'relu', \"tol\" :0.01, \"early_stopping\" : False, \"max_iter\":200, \"learning_rate_init\":0.001}\n",
    "test_conf(conf6)"
   ]
  },
  {
   "cell_type": "code",
   "execution_count": 19,
   "metadata": {},
   "outputs": [
    {
     "data": {
      "text/plain": [
       "MLPRegressor(early_stopping=True)"
      ]
     },
     "execution_count": 19,
     "metadata": {},
     "output_type": "execute_result"
    }
   ],
   "source": [
    "conf7 = {\"hidden_layer_sizes\" : (100,), \"activation\" : 'relu', \"tol\" :0.0001, \"early_stopping\" : True, \"max_iter\":200, \"learning_rate_init\":0.001}\n",
    "test_conf(conf7)"
   ]
  },
  {
   "cell_type": "code",
   "execution_count": 20,
   "metadata": {},
   "outputs": [
    {
     "data": {
      "text/plain": [
       "MLPRegressor(max_iter=2000)"
      ]
     },
     "execution_count": 20,
     "metadata": {},
     "output_type": "execute_result"
    }
   ],
   "source": [
    "conf8 = {\"hidden_layer_sizes\" : (100,), \"activation\" : 'relu', \"tol\" :0.0001, \"early_stopping\" : False, \"max_iter\":2000, \"learning_rate_init\":0.001}\n",
    "test_conf(conf8)"
   ]
  },
  {
   "cell_type": "code",
   "execution_count": 21,
   "metadata": {},
   "outputs": [],
   "source": [
    "conf9 = {\"hidden_layer_sizes\" : (100,), \"activation\" : 'relu', \"tol\" :0.0001, \"early_stopping\" : False, \"max_iter\":200, \"learning_rate_init\":0.1}\n",
    "final_mlp = test_conf(conf9)"
   ]
  },
  {
   "cell_type": "code",
   "execution_count": 22,
   "metadata": {},
   "outputs": [
    {
     "data": {
      "text/plain": [
       "MLPRegressor(early_stopping=True, hidden_layer_sizes=(100, 25),\n",
       "             learning_rate='adaptive', max_iter=500)"
      ]
     },
     "execution_count": 22,
     "metadata": {},
     "output_type": "execute_result"
    }
   ],
   "source": [
    "#The best configuration is one that gives us the best score for both training and testing set\n",
    "#We should then compromise on the number of layers and the maximum of iterations\n",
    "\n",
    "best_conf = {\"hidden_layer_sizes\" : (100,25), \"activation\" : 'relu', \"tol\" :0.0001, \"early_stopping\" : True, \n",
    "             \"learning_rate\" : 'adaptive',\"validation_fraction\" : 0.1, \"max_iter\":500, \"learning_rate_init\":0.001 }\n",
    "test_conf(best_conf)"
   ]
  },
  {
   "cell_type": "code",
   "execution_count": 23,
   "metadata": {},
   "outputs": [
    {
     "data": {
      "text/html": [
       "<div>\n",
       "<style scoped>\n",
       "    .dataframe tbody tr th:only-of-type {\n",
       "        vertical-align: middle;\n",
       "    }\n",
       "\n",
       "    .dataframe tbody tr th {\n",
       "        vertical-align: top;\n",
       "    }\n",
       "\n",
       "    .dataframe thead th {\n",
       "        text-align: right;\n",
       "    }\n",
       "</style>\n",
       "<table border=\"1\" class=\"dataframe\">\n",
       "  <thead>\n",
       "    <tr style=\"text-align: right;\">\n",
       "      <th></th>\n",
       "      <th>hidden_layer_sizes</th>\n",
       "      <th>activation</th>\n",
       "      <th>tol</th>\n",
       "      <th>early_stopping</th>\n",
       "      <th>max_iter</th>\n",
       "      <th>learning_rate_init</th>\n",
       "      <th>Time</th>\n",
       "      <th>Train score</th>\n",
       "      <th>Test score</th>\n",
       "      <th>learning_rate</th>\n",
       "      <th>validation_fraction</th>\n",
       "    </tr>\n",
       "  </thead>\n",
       "  <tbody>\n",
       "    <tr>\n",
       "      <th>10</th>\n",
       "      <td>(100, 25)</td>\n",
       "      <td>relu</td>\n",
       "      <td>0.0001</td>\n",
       "      <td>True</td>\n",
       "      <td>500</td>\n",
       "      <td>0.001</td>\n",
       "      <td>13.593365</td>\n",
       "      <td>0.800659</td>\n",
       "      <td>0.796612</td>\n",
       "      <td>adaptive</td>\n",
       "      <td>0.1</td>\n",
       "    </tr>\n",
       "    <tr>\n",
       "      <th>7</th>\n",
       "      <td>(100,)</td>\n",
       "      <td>relu</td>\n",
       "      <td>0.0001</td>\n",
       "      <td>True</td>\n",
       "      <td>200</td>\n",
       "      <td>0.001</td>\n",
       "      <td>18.896147</td>\n",
       "      <td>0.797888</td>\n",
       "      <td>0.785586</td>\n",
       "      <td>-</td>\n",
       "      <td>-</td>\n",
       "    </tr>\n",
       "    <tr>\n",
       "      <th>0</th>\n",
       "      <td>(100,)</td>\n",
       "      <td>relu</td>\n",
       "      <td>0.0001</td>\n",
       "      <td>False</td>\n",
       "      <td>200</td>\n",
       "      <td>0.001</td>\n",
       "      <td>25.887275</td>\n",
       "      <td>0.818538</td>\n",
       "      <td>0.781142</td>\n",
       "      <td>-</td>\n",
       "      <td>-</td>\n",
       "    </tr>\n",
       "    <tr>\n",
       "      <th>6</th>\n",
       "      <td>(100,)</td>\n",
       "      <td>relu</td>\n",
       "      <td>0.0100</td>\n",
       "      <td>False</td>\n",
       "      <td>200</td>\n",
       "      <td>0.001</td>\n",
       "      <td>2.804348</td>\n",
       "      <td>0.739251</td>\n",
       "      <td>0.767593</td>\n",
       "      <td>-</td>\n",
       "      <td>-</td>\n",
       "    </tr>\n",
       "    <tr>\n",
       "      <th>9</th>\n",
       "      <td>(100,)</td>\n",
       "      <td>relu</td>\n",
       "      <td>0.0001</td>\n",
       "      <td>False</td>\n",
       "      <td>200</td>\n",
       "      <td>0.100</td>\n",
       "      <td>4.988372</td>\n",
       "      <td>0.822721</td>\n",
       "      <td>0.765393</td>\n",
       "      <td>-</td>\n",
       "      <td>-</td>\n",
       "    </tr>\n",
       "    <tr>\n",
       "      <th>5</th>\n",
       "      <td>(100,)</td>\n",
       "      <td>tanh</td>\n",
       "      <td>0.0001</td>\n",
       "      <td>False</td>\n",
       "      <td>200</td>\n",
       "      <td>0.001</td>\n",
       "      <td>35.992563</td>\n",
       "      <td>0.788781</td>\n",
       "      <td>0.753041</td>\n",
       "      <td>-</td>\n",
       "      <td>-</td>\n",
       "    </tr>\n",
       "    <tr>\n",
       "      <th>4</th>\n",
       "      <td>(100,)</td>\n",
       "      <td>logistic</td>\n",
       "      <td>0.0001</td>\n",
       "      <td>False</td>\n",
       "      <td>200</td>\n",
       "      <td>0.001</td>\n",
       "      <td>28.594653</td>\n",
       "      <td>0.740026</td>\n",
       "      <td>0.752026</td>\n",
       "      <td>-</td>\n",
       "      <td>-</td>\n",
       "    </tr>\n",
       "    <tr>\n",
       "      <th>8</th>\n",
       "      <td>(100,)</td>\n",
       "      <td>relu</td>\n",
       "      <td>0.0001</td>\n",
       "      <td>False</td>\n",
       "      <td>2000</td>\n",
       "      <td>0.001</td>\n",
       "      <td>48.092507</td>\n",
       "      <td>0.838026</td>\n",
       "      <td>0.737605</td>\n",
       "      <td>-</td>\n",
       "      <td>-</td>\n",
       "    </tr>\n",
       "    <tr>\n",
       "      <th>3</th>\n",
       "      <td>(100,)</td>\n",
       "      <td>identity</td>\n",
       "      <td>0.0001</td>\n",
       "      <td>False</td>\n",
       "      <td>200</td>\n",
       "      <td>0.001</td>\n",
       "      <td>4.758420</td>\n",
       "      <td>0.688997</td>\n",
       "      <td>0.725396</td>\n",
       "      <td>-</td>\n",
       "      <td>-</td>\n",
       "    </tr>\n",
       "    <tr>\n",
       "      <th>2</th>\n",
       "      <td>(10,)</td>\n",
       "      <td>relu</td>\n",
       "      <td>0.0001</td>\n",
       "      <td>False</td>\n",
       "      <td>200</td>\n",
       "      <td>0.001</td>\n",
       "      <td>0.832452</td>\n",
       "      <td>0.736469</td>\n",
       "      <td>0.687174</td>\n",
       "      <td>-</td>\n",
       "      <td>-</td>\n",
       "    </tr>\n",
       "    <tr>\n",
       "      <th>1</th>\n",
       "      <td>(100, 100, 100, 100)</td>\n",
       "      <td>relu</td>\n",
       "      <td>0.0001</td>\n",
       "      <td>False</td>\n",
       "      <td>200</td>\n",
       "      <td>0.001</td>\n",
       "      <td>36.901365</td>\n",
       "      <td>0.902037</td>\n",
       "      <td>0.566535</td>\n",
       "      <td>-</td>\n",
       "      <td>-</td>\n",
       "    </tr>\n",
       "  </tbody>\n",
       "</table>\n",
       "</div>"
      ],
      "text/plain": [
       "      hidden_layer_sizes activation     tol  early_stopping  max_iter  \\\n",
       "10             (100, 25)       relu  0.0001            True       500   \n",
       "7                 (100,)       relu  0.0001            True       200   \n",
       "0                 (100,)       relu  0.0001           False       200   \n",
       "6                 (100,)       relu  0.0100           False       200   \n",
       "9                 (100,)       relu  0.0001           False       200   \n",
       "5                 (100,)       tanh  0.0001           False       200   \n",
       "4                 (100,)   logistic  0.0001           False       200   \n",
       "8                 (100,)       relu  0.0001           False      2000   \n",
       "3                 (100,)   identity  0.0001           False       200   \n",
       "2                  (10,)       relu  0.0001           False       200   \n",
       "1   (100, 100, 100, 100)       relu  0.0001           False       200   \n",
       "\n",
       "    learning_rate_init       Time  Train score  Test score learning_rate  \\\n",
       "10               0.001  13.593365     0.800659    0.796612      adaptive   \n",
       "7                0.001  18.896147     0.797888    0.785586             -   \n",
       "0                0.001  25.887275     0.818538    0.781142             -   \n",
       "6                0.001   2.804348     0.739251    0.767593             -   \n",
       "9                0.100   4.988372     0.822721    0.765393             -   \n",
       "5                0.001  35.992563     0.788781    0.753041             -   \n",
       "4                0.001  28.594653     0.740026    0.752026             -   \n",
       "8                0.001  48.092507     0.838026    0.737605             -   \n",
       "3                0.001   4.758420     0.688997    0.725396             -   \n",
       "2                0.001   0.832452     0.736469    0.687174             -   \n",
       "1                0.001  36.901365     0.902037    0.566535             -   \n",
       "\n",
       "   validation_fraction  \n",
       "10                 0.1  \n",
       "7                    -  \n",
       "0                    -  \n",
       "6                    -  \n",
       "9                    -  \n",
       "5                    -  \n",
       "4                    -  \n",
       "8                    -  \n",
       "3                    -  \n",
       "2                    -  \n",
       "1                    -  "
      ]
     },
     "execution_count": 23,
     "metadata": {},
     "output_type": "execute_result"
    }
   ],
   "source": [
    "import numpy as np\n",
    "\n",
    "table = pd.DataFrame.from_dict(data)\n",
    "table = table.replace(np.nan, '-')\n",
    "table = table.sort_values(by='Test score', ascending=False)\n",
    "table"
   ]
  },
  {
   "cell_type": "markdown",
   "metadata": {},
   "source": [
    "## Evaluation\n",
    "\n",
    "- From your experiments, what seems to be the best model (i.e. set of parameters) for predicting the value of a house?\n",
    "\n",
    "    - Influences of the parameters :\n",
    "        - the higher the number and size of hidden layer the smaller the test score, the best the train score and the higher the computation time\n",
    "        - the relu activation function give the best test and train score, followed by the logistic activation function but that one takes more time to compute\n",
    "        - less iterations give the best test score, worst train score and best computation time\n",
    "        - early_stopping set to True is good to optimize the computation time\n",
    "        - higher tolerance gives the quickest computation time but decreases the test and train score\n",
    "        - higher initial learning rate increases the train score but decreases the test score\n",
    "        - validation fraction helps with overfitting so it improves the test score \n",
    "        - learning rate optimize time \n",
    " \n",
    " \n",
    "    - Our best config would be : {\"hidden_layer_sizes\" : (100,25), \"activation\" : 'relu', \"tol\" :0.0001, \"early_stopping\" : True, \"learning_rate\" : 'adaptive',\"validation_fraction\" : 0.1, \"max_iter\":500, \"learning_rate_init\":0.001 }\n",
    "\n",
    "\n",
    "Unless you used cross-validation, you have probably used the \"test\" set to select the best model among the ones you experimented with.\n",
    "Since your model is the one that worked best on the \"test\" set, your selection is *biased*.\n",
    "\n",
    "In all rigor the original dataset should be split in three:\n",
    "\n",
    "- the **training set**, on which each model is trained\n",
    "- the **validation set**, that is used to pick the best parameters of the model \n",
    "- the **test set**, on which we evaluate the final model\n",
    "\n",
    "\n",
    "Evaluate the score of your algorithm on a test set that was not used for training nor for model selection.\n",
    "\n"
   ]
  },
  {
   "cell_type": "code",
   "execution_count": 24,
   "metadata": {},
   "outputs": [
    {
     "name": "stdout",
     "output_type": "stream",
     "text": [
      "Test score 1= -9.00692735001358\n",
      "Test score 2= -0.3160968532235562\n",
      "Test score 3= -0.10173092242689696\n"
     ]
    }
   ],
   "source": [
    "x_test_new = pd.DataFrame(cal_housing.data,columns=cal_housing.feature_names)[2000:2500]\n",
    "Y = cal_housing.target[2000:2500]\n",
    "X_test_new = sc.fit_transform(x_test_new)\n",
    "print(\"Test score 1= \"+ str(final_mlp.score(X_test_new, Y)))\n",
    "\n",
    "x_test_new = pd.DataFrame(cal_housing.data,columns=cal_housing.feature_names)[3000:3500]\n",
    "Y = cal_housing.target[3000:3500]\n",
    "X_test_new = sc.fit_transform(x_test_new)\n",
    "print(\"Test score 2= \"+ str(final_mlp.score(X_test_new, Y)))\n",
    "\n",
    "x_test_new = pd.DataFrame(cal_housing.data,columns=cal_housing.feature_names)[4000:4500]\n",
    "Y = cal_housing.target[4000:4500]\n",
    "X_test_new = sc.fit_transform(x_test_new)\n",
    "print(\"Test score 3= \"+ str(final_mlp.score(X_test_new, Y)))\n"
   ]
  },
  {
   "cell_type": "markdown",
   "metadata": {},
   "source": [
    "We can see that with data outside of our training or testing set, the test score are terrible. This is because our algorithm is biased and our training set is small."
   ]
  }
 ],
 "metadata": {
  "kernelspec": {
   "display_name": "Python 3",
   "language": "python",
   "name": "python3"
  },
  "language_info": {
   "codemirror_mode": {
    "name": "ipython",
    "version": 3
   },
   "file_extension": ".py",
   "mimetype": "text/x-python",
   "name": "python",
   "nbconvert_exporter": "python",
   "pygments_lexer": "ipython3",
   "version": "3.8.10"
  }
 },
 "nbformat": 4,
 "nbformat_minor": 4
}
